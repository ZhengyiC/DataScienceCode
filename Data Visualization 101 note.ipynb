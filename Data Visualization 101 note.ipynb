{
 "cells": [
  {
   "cell_type": "markdown",
   "metadata": {},
   "source": [
    "# Data Visualization"
   ]
  },
  {
   "cell_type": "markdown",
   "metadata": {},
   "source": [
    "## data storytelling \n",
    "    show to organizations (nonanalyst, nontechnical business manager)\n",
    "    should let people understand the idea of the data within 10s \n",
    "    require: highly organized and focused, clutter-free (simple and easy to understand \n",
    "    \n",
    "## data showcasing \n",
    "    display a lot of data\n",
    "    should be: contextual, informative, open-ended\n",
    "    audience: scientist, analysts ... (people with quantitative background)\n",
    "    allow other people to form theory or conclusion by themselves\n",
    "\n",
    "## data art\n",
    "    audience: general public or activists \n",
    "    provactive \n",
    "    "
   ]
  },
  {
   "cell_type": "markdown",
   "metadata": {},
   "source": [
    "### unfarmiliar graph types:\n",
    "\n",
    "    raster map: geographic graph with color that shows an extra dimention, often used for data showcasing\n",
    "    cloropleths: geographic maps that shows border lines, can bed used in story telling\n",
    "    \n",
    "## Steps to make data visualization\n",
    "    1. list question you want to be answered by your graph\n",
    "    2. story telling? showcasing? art?\n",
    "    3. dtm preferable graphic type\n",
    "    4. try diff graphic types and pick the clearest one"
   ]
  },
  {
   "cell_type": "markdown",
   "metadata": {},
   "source": [
    "## Colors\n",
    "    color should obey a certain theme (within a color formula)\n",
    "        AI driven color match tool: Colormind, http://colormind.io"
   ]
  },
  {
   "cell_type": "code",
   "execution_count": null,
   "metadata": {},
   "outputs": [],
   "source": []
  }
 ],
 "metadata": {
  "kernelspec": {
   "display_name": "Python 3",
   "language": "python",
   "name": "python3"
  },
  "language_info": {
   "codemirror_mode": {
    "name": "ipython",
    "version": 3
   },
   "file_extension": ".py",
   "mimetype": "text/x-python",
   "name": "python",
   "nbconvert_exporter": "python",
   "pygments_lexer": "ipython3",
   "version": "3.8.5"
  }
 },
 "nbformat": 4,
 "nbformat_minor": 4
}
