{
 "cells": [
  {
   "cell_type": "markdown",
   "metadata": {
    "collapsed": true
   },
   "source": [
    "# Chapter 4 - Clustering Models\n",
    "## Segment 2 - Hierarchial methods\n"
   ]
  },
  {
   "cell_type": "markdown",
   "metadata": {},
   "source": [
    "#### Background \n",
    "    unsupervised learning \n",
    "    group by distance with neighboring data points and group data that are most similar to a group\n",
    "    Parameters\n",
    "        1. distance\n",
    "            Euclidean, Manhattan and cosine\n",
    "        2. linkage \n",
    "            ward, complete and average \n",
    "        3. param mode selection: try every combination and use the model that gives the best accuracy "
   ]
  },
  {
   "cell_type": "markdown",
   "metadata": {},
   "source": [
    "#### Setting up for clustering analysis"
   ]
  },
  {
   "cell_type": "code",
   "execution_count": 8,
   "metadata": {},
   "outputs": [],
   "source": [
    "import numpy as np\n",
    "import pandas as pd\n",
    "\n",
    "import matplotlib.pyplot as plt\n",
    "from pylab import rcParams\n",
    "import seaborn as sb\n",
    "\n",
    "import sklearn\n",
    "import sklearn.metrics as sm"
   ]
  },
  {
   "cell_type": "code",
   "execution_count": 9,
   "metadata": {},
   "outputs": [],
   "source": [
    "from sklearn.cluster import AgglomerativeClustering\n",
    "\n",
    "import scipy\n",
    "from scipy.cluster.hierarchy import dendrogram, linkage\n",
    "from scipy.cluster.hierarchy import fcluster\n",
    "from scipy.cluster.hierarchy import cophenet\n",
    "from scipy.spatial.distance import pdist"
   ]
  },
  {
   "cell_type": "code",
   "execution_count": 10,
   "metadata": {},
   "outputs": [],
   "source": [
    "np.set_printoptions(precision=4, suppress=True)\n",
    "plt.figure(figsize=(10, 3))\n",
    "%matplotlib inline\n",
    "plt.style.use('seaborn-whitegrid')\n"
   ]
  },
  {
   "cell_type": "code",
   "execution_count": 11,
   "metadata": {},
   "outputs": [
    {
     "data": {
      "text/plain": [
       "'/Users/zhengyichen/Desktop/Ex_Files_Python_Data_Science_EssT_Pt2/Exercise Files/04_02_begin'"
      ]
     },
     "execution_count": 11,
     "metadata": {},
     "output_type": "execute_result"
    }
   ],
   "source": [
    "pwd"
   ]
  },
  {
   "cell_type": "code",
   "execution_count": 14,
   "metadata": {},
   "outputs": [
    {
     "name": "stdout",
     "output_type": "stream",
     "text": [
      "(32, 4)\n"
     ]
    }
   ],
   "source": [
    "address = '/Users/zhengyichen/Desktop/Ex_Files_Python_Data_Science_EssT_Pt2/Exercise Files/Data/mtcars.csv'\n",
    "\n",
    "cars = pd.read_csv(address)\n",
    "cars.columns = ['car_names','mpg','cyl','disp', 'hp', 'drat', 'wt', 'qsec', 'vs', 'am', 'gear', 'carb']\n",
    "\n",
    "X = cars[['mpg', 'disp', 'hp', 'wt']].values\n",
    "print(X.shape) #only with values, no header or col names\n",
    "\n",
    "y = cars.iloc[:,9].values"
   ]
  },
  {
   "cell_type": "markdown",
   "metadata": {
    "collapsed": true
   },
   "source": [
    "### Using scipy to generate dendrograms"
   ]
  },
  {
   "cell_type": "code",
   "execution_count": 17,
   "metadata": {},
   "outputs": [
    {
     "data": {
      "text/plain": [
       "(31, 4)"
      ]
     },
     "execution_count": 17,
     "metadata": {},
     "output_type": "execute_result"
    }
   ],
   "source": [
    "#gen dendrogram \n",
    "Z = linkage(X, 'ward') #ward is a dist method name \n",
    "Z.shape"
   ]
  },
  {
   "cell_type": "markdown",
   "metadata": {},
   "source": [
    "##### linkage function def\n",
    "A (n−1) by 4 matrix Z is returned. At the i-th iteration, clusters with indices Z[i, 0] and Z[i, 1] are combined to form cluster (n+1). A cluster with an index less than n corresponds to one of the n\n",
    " original observations. \n",
    " \n",
    " The distance between clusters Z[i, 0] and Z[i, 1] is given by Z[i, 2]. The fourth value Z[i, 3] represents the number of original observations in the newly formed cluster."
   ]
  },
  {
   "cell_type": "code",
   "execution_count": 23,
   "metadata": {},
   "outputs": [
    {
     "data": {
      "image/png": "[encoded data removed]",
      "text/plain": [
       "<Figure size 432x288 with 1 Axes>"
      ]
     },
     "metadata": {},
     "output_type": "display_data"
    }
   ],
   "source": [
    "#dendrogram function used to plot a hierarchical clustering.\n",
    "#last p: let the last level have p branches (end nodes)\n",
    "dendrogram(Z, truncate_mode =  'lastp', p = 12, leaf_rotation=45, \n",
    "           leaf_font_size= 15, show_contracted=True)\n",
    "plt.title(\"truncated hierarchical clustering diagram\")\n",
    "plt.xlabel(\"cluster size\")\n",
    "plt.ylabel(\"distance\")\n",
    "\n",
    "plt.axhline(y=500)\n",
    "plt.axhline(y = 150)\n",
    "plt.show()\n",
    "#hierarchy \n",
    "#hierarchical "
   ]
  },
  {
   "cell_type": "markdown",
   "metadata": {},
   "source": [
    "## Generating hierarchical clusters"
   ]
  },
  {
   "cell_type": "markdown",
   "metadata": {},
   "source": [
    "we want to use the features to predict classification of am, which has 2 possible values. \n",
    "\n",
    "We can use k=2 in the hierarchical classification"
   ]
  },
  {
   "cell_type": "code",
   "execution_count": 27,
   "metadata": {},
   "outputs": [
    {
     "name": "stdout",
     "output_type": "stream",
     "text": [
      "(32,)\n",
      "[1 1 1 0 0 0 0 1 1 1 1 0 0 0 0 0 0 1 1 1 1 0 0 0 0 1 1 1 0 1 0 1]\n",
      "0.78125\n"
     ]
    }
   ],
   "source": [
    "k = 2\n",
    "#create the model obj\n",
    "hClustering = AgglomerativeClustering( \n",
    "    n_clusters=k, affinity = 'euclidean', linkage = 'ward')\n",
    "#fit the model with data\n",
    "hClustering.fit(X)\n",
    "\n",
    "#sklearn.metrics \n",
    "print(hClustering.labels_.shape)\n",
    "print(hClustering.labels_)#since we let k = 2, each data either 1 or 0\n",
    "scores = sm.accuracy_score(y, hClustering.labels_)\n",
    "print(scores)\n"
   ]
  },
  {
   "cell_type": "code",
   "execution_count": 29,
   "metadata": {},
   "outputs": [
    {
     "name": "stdout",
     "output_type": "stream",
     "text": [
      "0.78125\n"
     ]
    }
   ],
   "source": [
    "hClustering = AgglomerativeClustering( \n",
    "    n_clusters=k, affinity = 'euclidean', linkage = 'average')\n",
    "hClustering.fit(X)\n",
    "scores = sm.accuracy_score(y, hClustering.labels_)\n",
    "print(scores)"
   ]
  },
  {
   "cell_type": "code",
   "execution_count": 30,
   "metadata": {},
   "outputs": [
    {
     "name": "stdout",
     "output_type": "stream",
     "text": [
      "0.71875\n"
     ]
    }
   ],
   "source": [
    "hClustering = AgglomerativeClustering( \n",
    "    n_clusters=k, affinity = 'manhattan', linkage = 'average')\n",
    "hClustering.fit(X)\n",
    "scores = sm.accuracy_score(y, hClustering.labels_)\n",
    "print(scores)"
   ]
  },
  {
   "cell_type": "code",
   "execution_count": 31,
   "metadata": {},
   "outputs": [],
   "source": [
    "#using euclidean affinity looks good for the data set for both linkage\n",
    "#use these parameters for later predictions"
   ]
  },
  {
   "cell_type": "code",
   "execution_count": null,
   "metadata": {},
   "outputs": [],
   "source": []
  }
 ],
 "metadata": {
  "anaconda-cloud": {},
  "kernelspec": {
   "display_name": "Python 3",
   "language": "python",
   "name": "python3"
  },
  "language_info": {
   "codemirror_mode": {
    "name": "ipython",
    "version": 3
   },
   "file_extension": ".py",
   "mimetype": "text/x-python",
   "name": "python",
   "nbconvert_exporter": "python",
   "pygments_lexer": "ipython3",
   "version": "3.8.5"
  }
 },
 "nbformat": 4,
 "nbformat_minor": 1
}
