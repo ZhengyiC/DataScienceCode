{
 "cells": [
  {
   "cell_type": "markdown",
   "metadata": {},
   "source": [
    "# Machine Learning Background "
   ]
  },
  {
   "cell_type": "markdown",
   "metadata": {},
   "source": [
    "## Terminologies "
   ]
  },
  {
   "cell_type": "markdown",
   "metadata": {},
   "source": [
    "#### feature: (x)\n",
    "    AKA: variable, column, attribute and field \n",
    "#### Instance: (y)\n",
    "    AKA: rows, observation, data point, value and case\n",
    "#### Target:\n",
    "    what we are trying to predict \n",
    "    AKA: predictant and depen var\n",
    "#### Data:\n",
    "    predictors / what we are feeding to the algo"
   ]
  },
  {
   "cell_type": "markdown",
   "metadata": {},
   "source": [
    "## Training and Testing Sets\n",
    "    Usually 80% data point --> train\n",
    "    20% --> test"
   ]
  },
  {
   "cell_type": "markdown",
   "metadata": {},
   "source": [
    "## Types of ML Mthds\n",
    "#### supervised learning \n",
    "#### unsupervised \n",
    "    1. find subgroups from a bunch of data\n",
    "    1.5 how many groups can be define?\n",
    "    2. give a new data, output which subgrounp the new data should belong \n",
    "#### semi-supervised "
   ]
  },
  {
   "cell_type": "markdown",
   "metadata": {},
   "source": [
    "# Find ML Algo:\n",
    "    understand data and the output you want \n",
    "    identify algo type you can use\n",
    "        by learning style (supervised/ unsupervised)\n",
    "        by function: regression, clustering, dim reduction\n",
    "        by use case: fraud detection, face recognition \n",
    "    data pre-proessing \n",
    "    --> decrease time-to-value "
   ]
  },
  {
   "cell_type": "code",
   "execution_count": null,
   "metadata": {},
   "outputs": [],
   "source": []
  }
 ],
 "metadata": {
  "kernelspec": {
   "display_name": "Python 3",
   "language": "python",
   "name": "python3"
  },
  "language_info": {
   "codemirror_mode": {
    "name": "ipython",
    "version": 3
   },
   "file_extension": ".py",
   "mimetype": "text/x-python",
   "name": "python",
   "nbconvert_exporter": "python",
   "pygments_lexer": "ipython3",
   "version": "3.8.5"
  }
 },
 "nbformat": 4,
 "nbformat_minor": 4
}
