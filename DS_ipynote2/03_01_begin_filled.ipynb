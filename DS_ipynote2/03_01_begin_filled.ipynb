{
 "cells": [
  {
   "cell_type": "markdown",
   "metadata": {},
   "source": [
    "# Chapter 3 - Regressoin Models\n",
    "## Segment 1 - Simple linear regression"
   ]
  },
  {
   "cell_type": "markdown",
   "metadata": {},
   "source": [
    "### background:\n",
    "    use cases: forecasts in multiple fields \n",
    "    assumption:\n",
    "        numerical and continuous data input\n",
    "        have linear relation between predictor and predictant \n",
    "    output a single predictant"
   ]
  },
  {
   "cell_type": "code",
   "execution_count": 1,
   "metadata": {},
   "outputs": [],
   "source": [
    "import numpy as np\n",
    "import pandas as pd\n",
    "import matplotlib.pyplot as plt\n",
    "import sklearn \n",
    "\n",
    "from pylab import rcParams\n",
    "\n",
    "from sklearn.linear_model import LinearRegression \n",
    "from sklearn.preprocessing import scale"
   ]
  },
  {
   "cell_type": "code",
   "execution_count": 5,
   "metadata": {},
   "outputs": [],
   "source": [
    "%matplotlib inline\n",
    "rcParams['figure.figsize'] = 10,8\n",
    "# not important figure size setting "
   ]
  },
  {
   "cell_type": "code",
   "execution_count": 7,
   "metadata": {},
   "outputs": [
    {
     "data": {
      "text/plain": [
       "array([[4.5241701 ],\n",
       "       [4.35999466],\n",
       "       [4.97070621],\n",
       "       [3.99051394],\n",
       "       [4.12587823],\n",
       "       [4.62837019],\n",
       "       [4.56281662],\n",
       "       [4.84843932],\n",
       "       [4.42170661]])"
      ]
     },
     "execution_count": 7,
     "metadata": {},
     "output_type": "execute_result"
    }
   ],
   "source": [
    "#gen rand input\n",
    "rooms = 2*np.random.rand(100,1)+3 \n",
    "#return values from between 0 and 1 randomly, arg specifies dimension \n",
    "rooms[1:10]"
   ]
  },
  {
   "cell_type": "code",
   "execution_count": 9,
   "metadata": {},
   "outputs": [],
   "source": [
    "# note np.random.randint(low, high):\n",
    "    #it returns random int values from [low,high)\n",
    "    #note the args are boundary instead of dimensions"
   ]
  },
  {
   "cell_type": "code",
   "execution_count": 8,
   "metadata": {},
   "outputs": [
    {
     "data": {
      "text/plain": [
       "array([[283.14026158],\n",
       "       [282.21322926],\n",
       "       [284.43743748],\n",
       "       [280.7916935 ],\n",
       "       [278.53027469],\n",
       "       [284.69099682],\n",
       "       [283.44701476],\n",
       "       [284.14805067],\n",
       "       [285.13381049]])"
      ]
     },
     "execution_count": 8,
     "metadata": {},
     "output_type": "execute_result"
    }
   ],
   "source": [
    "price = 256+ 6*rooms + np.random.randn(100,1) \n",
    "# randn: getting rand num from std normal distribution\n",
    "#args: num of element for each dimension (just dimensions)\n",
    "price[1:10]"
   ]
  },
  {
   "cell_type": "code",
   "execution_count": 11,
   "metadata": {},
   "outputs": [
    {
     "data": {
      "image/png": "[encoded data removed]",
      "text/plain": [
       "<Figure size 720x576 with 1 Axes>"
      ]
     },
     "metadata": {
      "needs_background": "light"
     },
     "output_type": "display_data"
    }
   ],
   "source": [
    "plt.plot(rooms, price, 'r^')\n",
    "plt.xlabel(\" # of rooms, 2019 Avg\")\n",
    "plt.ylabel(\"2019 Avg Home, 1000s USD\")\n",
    "plt.show()"
   ]
  },
  {
   "cell_type": "code",
   "execution_count": 14,
   "metadata": {},
   "outputs": [
    {
     "name": "stdout",
     "output_type": "stream",
     "text": [
      "[255.77793763] [[6.02942177]]\n"
     ]
    }
   ],
   "source": [
    "x = rooms\n",
    "y = price\n",
    "linReg = LinearRegression() # create an instance of LR model \n",
    "linReg.fit(x,y)#fit the model with input and labels \n",
    "\n",
    "print(linReg.intercept_, linReg.coef_)\n",
    "# b,m "
   ]
  },
  {
   "cell_type": "markdown",
   "metadata": {},
   "source": [
    "*Simple Algebra*\n",
    "- y = mx + b\n",
    "- b = intercept = 265.7\n",
    "\n",
    "*Estimated Coefficients*\n",
    "- LinReg.coef_ = [5.99] Estimated coefficients for the terms in the linear regression problem."
   ]
  },
  {
   "cell_type": "code",
   "execution_count": 15,
   "metadata": {},
   "outputs": [
    {
     "name": "stdout",
     "output_type": "stream",
     "text": [
      "0.9255406344328039\n"
     ]
    }
   ],
   "source": [
    "print(linReg.score(x,y))\n",
    "#score is the r-squre value to check how well the model performs \n",
    "#close to 1 is better "
   ]
  },
  {
   "cell_type": "code",
   "execution_count": null,
   "metadata": {},
   "outputs": [],
   "source": []
  }
 ],
 "metadata": {
  "kernelspec": {
   "display_name": "Python 3",
   "language": "python",
   "name": "python3"
  },
  "language_info": {
   "codemirror_mode": {
    "name": "ipython",
    "version": 3
   },
   "file_extension": ".py",
   "mimetype": "text/x-python",
   "name": "python",
   "nbconvert_exporter": "python",
   "pygments_lexer": "ipython3",
   "version": "3.8.5"
  },
  "nav_menu": {
   "height": "279px",
   "width": "309px"
  },
  "toc": {
   "navigate_menu": true,
   "number_sections": true,
   "sideBar": true,
   "threshold": 6,
   "toc_cell": false,
   "toc_section_display": "block",
   "toc_window_display": false
  }
 },
 "nbformat": 4,
 "nbformat_minor": 1
}
